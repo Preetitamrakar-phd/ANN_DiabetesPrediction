{
  "nbformat": 4,
  "nbformat_minor": 0,
  "metadata": {
    "colab": {
      "name": "ANN_pima indians diabetes.ipynb",
      "provenance": [],
      "authorship_tag": "ABX9TyOYR9K7r2Vi0kclHHpI0IJk",
      "include_colab_link": true
    },
    "kernelspec": {
      "name": "python3",
      "display_name": "Python 3"
    },
    "language_info": {
      "name": "python"
    }
  },
  "cells": [
    {
      "cell_type": "markdown",
      "metadata": {
        "id": "view-in-github",
        "colab_type": "text"
      },
      "source": [
        "<a href=\"https://colab.research.google.com/github/Preetitamrakar-phd/ANN_DiabetesPrediction/blob/main/ANN_pima_indians_diabetes.ipynb\" target=\"_parent\"><img src=\"https://colab.research.google.com/assets/colab-badge.svg\" alt=\"Open In Colab\"/></a>"
      ]
    },
    {
      "cell_type": "markdown",
      "metadata": {
        "id": "281nOu9UuutE"
      },
      "source": [
        "\n",
        "   1. Number of times pregnant\n",
        "   2. Plasma glucose concentration a 2 hours in an oral glucose tolerance test\n",
        "   3. Diastolic blood pressure (mm Hg)\n",
        "   4. Triceps skin fold thickness (mm)\n",
        "   5. 2-Hour serum insulin (mu U/ml)\n",
        "   6. Body mass index (weight in kg/(height in m)^2)\n",
        "   7. Diabetes pedigree function\n",
        "   8. Age (years)\n",
        "   9. Class variable (0 or 1)"
      ]
    },
    {
      "cell_type": "code",
      "metadata": {
        "id": "u5Mz4xiZu2W-"
      },
      "source": [
        "from numpy import loadtxt\n",
        "\n",
        "from keras.models import Sequential\n",
        "from keras.layers import Dense\n",
        "from keras.models import model_from_json\n"
      ],
      "execution_count": 1,
      "outputs": []
    },
    {
      "cell_type": "code",
      "metadata": {
        "colab": {
          "base_uri": "https://localhost:8080/"
        },
        "id": "QLiIUvAovCzo",
        "outputId": "0764df52-e964-4f39-bf05-e7a57a2e2cb4"
      },
      "source": [
        "dataset = loadtxt('pima-indians-diabetes.csv', delimiter=',')\n",
        "x = dataset[:,0:8]\n",
        "y = dataset[:,8]\n",
        "print(x)\n"
      ],
      "execution_count": 3,
      "outputs": [
        {
          "output_type": "stream",
          "text": [
            "[[  6.    148.     72.    ...  33.6     0.627  50.   ]\n",
            " [  1.     85.     66.    ...  26.6     0.351  31.   ]\n",
            " [  8.    183.     64.    ...  23.3     0.672  32.   ]\n",
            " ...\n",
            " [  5.    121.     72.    ...  26.2     0.245  30.   ]\n",
            " [  1.    126.     60.    ...  30.1     0.349  47.   ]\n",
            " [  1.     93.     70.    ...  30.4     0.315  23.   ]]\n"
          ],
          "name": "stdout"
        }
      ]
    },
    {
      "cell_type": "code",
      "metadata": {
        "colab": {
          "base_uri": "https://localhost:8080/"
        },
        "id": "hNImlUecvIqn",
        "outputId": "b3088982-0354-4eaa-fb42-b363a27795c1"
      },
      "source": [
        "print(y)"
      ],
      "execution_count": 4,
      "outputs": [
        {
          "output_type": "stream",
          "text": [
            "[1. 0. 1. 0. 1. 0. 1. 0. 1. 1. 0. 1. 0. 1. 1. 1. 1. 1. 0. 1. 0. 0. 1. 1.\n",
            " 1. 1. 1. 0. 0. 0. 0. 1. 0. 0. 0. 0. 0. 1. 1. 1. 0. 0. 0. 1. 0. 1. 0. 0.\n",
            " 1. 0. 0. 0. 0. 1. 0. 0. 1. 0. 0. 0. 0. 1. 0. 0. 1. 0. 1. 0. 0. 0. 1. 0.\n",
            " 1. 0. 0. 0. 0. 0. 1. 0. 0. 0. 0. 0. 1. 0. 0. 0. 1. 0. 0. 0. 0. 1. 0. 0.\n",
            " 0. 0. 0. 1. 1. 0. 0. 0. 0. 0. 0. 0. 0. 1. 1. 1. 0. 0. 1. 1. 1. 0. 0. 0.\n",
            " 1. 0. 0. 0. 1. 1. 0. 0. 1. 1. 1. 1. 1. 0. 0. 0. 0. 0. 0. 0. 0. 0. 0. 1.\n",
            " 0. 0. 0. 0. 0. 0. 0. 0. 1. 0. 1. 1. 0. 0. 0. 1. 0. 0. 0. 0. 1. 1. 0. 0.\n",
            " 0. 0. 1. 1. 0. 0. 0. 1. 0. 1. 0. 1. 0. 0. 0. 0. 0. 1. 1. 1. 1. 1. 0. 0.\n",
            " 1. 1. 0. 1. 0. 1. 1. 1. 0. 0. 0. 0. 0. 0. 1. 1. 0. 1. 0. 0. 0. 1. 1. 1.\n",
            " 1. 0. 1. 1. 1. 1. 0. 0. 0. 0. 0. 1. 0. 0. 1. 1. 0. 0. 0. 1. 1. 1. 1. 0.\n",
            " 0. 0. 1. 1. 0. 1. 0. 0. 0. 0. 0. 0. 0. 0. 1. 1. 0. 0. 0. 1. 0. 1. 0. 0.\n",
            " 1. 0. 1. 0. 0. 1. 1. 0. 0. 0. 0. 0. 1. 0. 0. 0. 1. 0. 0. 1. 1. 0. 0. 1.\n",
            " 0. 0. 0. 1. 1. 1. 0. 0. 1. 0. 1. 0. 1. 1. 0. 1. 0. 0. 1. 0. 1. 1. 0. 0.\n",
            " 1. 0. 1. 0. 0. 1. 0. 1. 0. 1. 1. 1. 0. 0. 1. 0. 1. 0. 0. 0. 1. 0. 0. 0.\n",
            " 0. 1. 1. 1. 0. 0. 0. 0. 0. 0. 0. 0. 0. 1. 0. 0. 0. 0. 0. 1. 1. 1. 0. 1.\n",
            " 1. 0. 0. 1. 0. 0. 1. 0. 0. 1. 1. 0. 0. 0. 0. 1. 0. 0. 1. 0. 0. 0. 0. 0.\n",
            " 0. 0. 1. 1. 1. 0. 0. 1. 0. 0. 1. 0. 0. 1. 0. 1. 1. 0. 1. 0. 1. 0. 1. 0.\n",
            " 1. 1. 0. 0. 0. 0. 1. 1. 0. 1. 0. 1. 0. 0. 0. 0. 1. 1. 0. 1. 0. 1. 0. 0.\n",
            " 0. 0. 0. 1. 0. 0. 0. 0. 1. 0. 0. 1. 1. 1. 0. 0. 1. 0. 0. 1. 0. 0. 0. 1.\n",
            " 0. 0. 1. 0. 0. 0. 0. 0. 0. 0. 0. 0. 1. 0. 0. 0. 0. 0. 0. 0. 1. 0. 0. 0.\n",
            " 1. 0. 0. 0. 1. 1. 0. 0. 0. 0. 0. 0. 0. 1. 0. 0. 0. 0. 1. 0. 0. 0. 1. 0.\n",
            " 0. 0. 1. 0. 0. 0. 1. 0. 0. 0. 0. 1. 1. 0. 0. 0. 0. 0. 0. 1. 0. 0. 0. 0.\n",
            " 0. 0. 0. 0. 0. 0. 0. 1. 0. 0. 0. 1. 1. 1. 1. 0. 0. 1. 1. 0. 0. 0. 0. 0.\n",
            " 0. 0. 0. 0. 0. 0. 0. 0. 1. 1. 0. 0. 0. 0. 0. 0. 0. 1. 0. 0. 0. 0. 0. 0.\n",
            " 0. 1. 0. 1. 1. 0. 0. 0. 1. 0. 1. 0. 1. 0. 1. 0. 1. 0. 0. 1. 0. 0. 1. 0.\n",
            " 0. 0. 0. 1. 1. 0. 1. 0. 0. 0. 0. 1. 1. 0. 1. 0. 0. 0. 1. 1. 0. 0. 0. 0.\n",
            " 0. 0. 0. 0. 0. 0. 1. 0. 0. 0. 0. 1. 0. 0. 1. 0. 0. 0. 1. 0. 0. 0. 1. 1.\n",
            " 1. 0. 0. 0. 0. 0. 0. 1. 0. 0. 0. 1. 0. 1. 1. 1. 1. 0. 1. 1. 0. 0. 0. 0.\n",
            " 0. 0. 0. 1. 1. 0. 1. 0. 0. 1. 0. 1. 0. 0. 0. 0. 0. 1. 0. 1. 0. 1. 0. 1.\n",
            " 1. 0. 0. 0. 0. 1. 1. 0. 0. 0. 1. 0. 1. 1. 0. 0. 1. 0. 0. 1. 1. 0. 0. 1.\n",
            " 0. 0. 1. 0. 0. 0. 0. 0. 0. 0. 1. 1. 1. 0. 0. 0. 0. 0. 0. 1. 1. 0. 0. 1.\n",
            " 0. 0. 1. 0. 1. 1. 1. 0. 0. 1. 1. 1. 0. 1. 0. 1. 0. 1. 0. 0. 0. 0. 1. 0.]\n"
          ],
          "name": "stdout"
        }
      ]
    },
    {
      "cell_type": "code",
      "metadata": {
        "id": "_tM2-B5rvT8J"
      },
      "source": [
        "model = Sequential()\n",
        "model.add(Dense(12, input_dim=8, activation='relu'))\n",
        "model.add(Dense(8, activation='relu'))\n",
        "model.add(Dense(1, activation='sigmoid'))"
      ],
      "execution_count": 5,
      "outputs": []
    },
    {
      "cell_type": "code",
      "metadata": {
        "colab": {
          "base_uri": "https://localhost:8080/"
        },
        "id": "3LM7gUPzvYnJ",
        "outputId": "2cb82097-f32d-4505-d743-373ab2d070d9"
      },
      "source": [
        "model.summary()"
      ],
      "execution_count": 6,
      "outputs": [
        {
          "output_type": "stream",
          "text": [
            "Model: \"sequential\"\n",
            "_________________________________________________________________\n",
            "Layer (type)                 Output Shape              Param #   \n",
            "=================================================================\n",
            "dense (Dense)                (None, 12)                108       \n",
            "_________________________________________________________________\n",
            "dense_1 (Dense)              (None, 8)                 104       \n",
            "_________________________________________________________________\n",
            "dense_2 (Dense)              (None, 1)                 9         \n",
            "=================================================================\n",
            "Total params: 221\n",
            "Trainable params: 221\n",
            "Non-trainable params: 0\n",
            "_________________________________________________________________\n"
          ],
          "name": "stdout"
        }
      ]
    },
    {
      "cell_type": "code",
      "metadata": {
        "colab": {
          "base_uri": "https://localhost:8080/"
        },
        "id": "Pcfks-mHvcpW",
        "outputId": "1dcb9e4d-acff-485e-bd20-ad46eb65b94b"
      },
      "source": [
        "model.compile(loss='binary_crossentropy', optimizer='adam', metrics=['accuracy'])\n",
        "model.fit(x, y, epochs=100, batch_size=10)\n",
        "\n",
        "_, accuracy = model.evaluate(x, y)\n",
        "print('Accuracy: %.2f' % (accuracy*100))\n",
        "\n",
        "model_json = model.to_json()\n",
        "with open(\"model.json\", \"w\") as json_file:\n",
        "    json_file.write(model_json)\n",
        "model.save_weights(\"model.h5\")\n",
        "print(\"Saved model to disk\")"
      ],
      "execution_count": 8,
      "outputs": [
        {
          "output_type": "stream",
          "text": [
            "Epoch 1/100\n",
            "77/77 [==============================] - 1s 1ms/step - loss: 1.0285 - accuracy: 0.5483\n",
            "Epoch 2/100\n",
            "77/77 [==============================] - 0s 997us/step - loss: 0.8451 - accuracy: 0.6381\n",
            "Epoch 3/100\n",
            "77/77 [==============================] - 0s 1ms/step - loss: 0.8403 - accuracy: 0.6443\n",
            "Epoch 4/100\n",
            "77/77 [==============================] - 0s 1ms/step - loss: 0.7572 - accuracy: 0.6203\n",
            "Epoch 5/100\n",
            "77/77 [==============================] - 0s 1ms/step - loss: 0.7446 - accuracy: 0.6172\n",
            "Epoch 6/100\n",
            "77/77 [==============================] - 0s 1ms/step - loss: 0.7330 - accuracy: 0.6281\n",
            "Epoch 7/100\n",
            "77/77 [==============================] - 0s 1ms/step - loss: 0.6814 - accuracy: 0.6688\n",
            "Epoch 8/100\n",
            "77/77 [==============================] - 0s 1ms/step - loss: 0.7453 - accuracy: 0.6562\n",
            "Epoch 9/100\n",
            "77/77 [==============================] - 0s 1ms/step - loss: 0.6763 - accuracy: 0.6404\n",
            "Epoch 10/100\n",
            "77/77 [==============================] - 0s 1ms/step - loss: 0.6458 - accuracy: 0.6519\n",
            "Epoch 11/100\n",
            "77/77 [==============================] - 0s 1ms/step - loss: 0.6409 - accuracy: 0.6762\n",
            "Epoch 12/100\n",
            "77/77 [==============================] - 0s 1ms/step - loss: 0.6609 - accuracy: 0.6445\n",
            "Epoch 13/100\n",
            "77/77 [==============================] - 0s 1ms/step - loss: 0.6712 - accuracy: 0.6798\n",
            "Epoch 14/100\n",
            "77/77 [==============================] - 0s 1ms/step - loss: 0.6591 - accuracy: 0.6686\n",
            "Epoch 15/100\n",
            "77/77 [==============================] - 0s 1ms/step - loss: 0.6072 - accuracy: 0.7023\n",
            "Epoch 16/100\n",
            "77/77 [==============================] - 0s 1ms/step - loss: 0.6241 - accuracy: 0.6861\n",
            "Epoch 17/100\n",
            "77/77 [==============================] - 0s 1ms/step - loss: 0.6571 - accuracy: 0.6694\n",
            "Epoch 18/100\n",
            "77/77 [==============================] - 0s 1ms/step - loss: 0.5789 - accuracy: 0.6953\n",
            "Epoch 19/100\n",
            "77/77 [==============================] - 0s 1ms/step - loss: 0.6419 - accuracy: 0.6770\n",
            "Epoch 20/100\n",
            "77/77 [==============================] - 0s 1ms/step - loss: 0.5734 - accuracy: 0.7257\n",
            "Epoch 21/100\n",
            "77/77 [==============================] - 0s 1ms/step - loss: 0.6083 - accuracy: 0.7086\n",
            "Epoch 22/100\n",
            "77/77 [==============================] - 0s 1ms/step - loss: 0.6145 - accuracy: 0.7031\n",
            "Epoch 23/100\n",
            "77/77 [==============================] - 0s 1ms/step - loss: 0.6122 - accuracy: 0.6972\n",
            "Epoch 24/100\n",
            "77/77 [==============================] - 0s 1ms/step - loss: 0.6044 - accuracy: 0.7096\n",
            "Epoch 25/100\n",
            "77/77 [==============================] - 0s 1ms/step - loss: 0.5800 - accuracy: 0.6987\n",
            "Epoch 26/100\n",
            "77/77 [==============================] - 0s 1ms/step - loss: 0.5875 - accuracy: 0.6938\n",
            "Epoch 27/100\n",
            "77/77 [==============================] - 0s 1ms/step - loss: 0.5913 - accuracy: 0.7026\n",
            "Epoch 28/100\n",
            "77/77 [==============================] - 0s 1ms/step - loss: 0.6045 - accuracy: 0.7019\n",
            "Epoch 29/100\n",
            "77/77 [==============================] - 0s 1ms/step - loss: 0.6008 - accuracy: 0.7341\n",
            "Epoch 30/100\n",
            "77/77 [==============================] - 0s 1ms/step - loss: 0.5756 - accuracy: 0.7432\n",
            "Epoch 31/100\n",
            "77/77 [==============================] - 0s 994us/step - loss: 0.6015 - accuracy: 0.6969\n",
            "Epoch 32/100\n",
            "77/77 [==============================] - 0s 1ms/step - loss: 0.5851 - accuracy: 0.6927\n",
            "Epoch 33/100\n",
            "77/77 [==============================] - 0s 1ms/step - loss: 0.5932 - accuracy: 0.6998\n",
            "Epoch 34/100\n",
            "77/77 [==============================] - 0s 1ms/step - loss: 0.5577 - accuracy: 0.7175\n",
            "Epoch 35/100\n",
            "77/77 [==============================] - 0s 1ms/step - loss: 0.5775 - accuracy: 0.6978\n",
            "Epoch 36/100\n",
            "77/77 [==============================] - 0s 1ms/step - loss: 0.5671 - accuracy: 0.7252\n",
            "Epoch 37/100\n",
            "77/77 [==============================] - 0s 1ms/step - loss: 0.5672 - accuracy: 0.6981\n",
            "Epoch 38/100\n",
            "77/77 [==============================] - 0s 1ms/step - loss: 0.5418 - accuracy: 0.7277\n",
            "Epoch 39/100\n",
            "77/77 [==============================] - 0s 1ms/step - loss: 0.5398 - accuracy: 0.7323\n",
            "Epoch 40/100\n",
            "77/77 [==============================] - 0s 1ms/step - loss: 0.5957 - accuracy: 0.7040\n",
            "Epoch 41/100\n",
            "77/77 [==============================] - 0s 1ms/step - loss: 0.5668 - accuracy: 0.6883\n",
            "Epoch 42/100\n",
            "77/77 [==============================] - 0s 1ms/step - loss: 0.5656 - accuracy: 0.7100\n",
            "Epoch 43/100\n",
            "77/77 [==============================] - 0s 1ms/step - loss: 0.5590 - accuracy: 0.6904\n",
            "Epoch 44/100\n",
            "77/77 [==============================] - 0s 1ms/step - loss: 0.5850 - accuracy: 0.7176\n",
            "Epoch 45/100\n",
            "77/77 [==============================] - 0s 1ms/step - loss: 0.5447 - accuracy: 0.7453\n",
            "Epoch 46/100\n",
            "77/77 [==============================] - 0s 1ms/step - loss: 0.5749 - accuracy: 0.6977\n",
            "Epoch 47/100\n",
            "77/77 [==============================] - 0s 1ms/step - loss: 0.5799 - accuracy: 0.7206\n",
            "Epoch 48/100\n",
            "77/77 [==============================] - 0s 1ms/step - loss: 0.5702 - accuracy: 0.7236\n",
            "Epoch 49/100\n",
            "77/77 [==============================] - 0s 1ms/step - loss: 0.5674 - accuracy: 0.7089\n",
            "Epoch 50/100\n",
            "77/77 [==============================] - 0s 1ms/step - loss: 0.5494 - accuracy: 0.7103\n",
            "Epoch 51/100\n",
            "77/77 [==============================] - 0s 1ms/step - loss: 0.5259 - accuracy: 0.7473\n",
            "Epoch 52/100\n",
            "77/77 [==============================] - 0s 1ms/step - loss: 0.5585 - accuracy: 0.7289\n",
            "Epoch 53/100\n",
            "77/77 [==============================] - 0s 1ms/step - loss: 0.5580 - accuracy: 0.7200\n",
            "Epoch 54/100\n",
            "77/77 [==============================] - 0s 1ms/step - loss: 0.5766 - accuracy: 0.7207\n",
            "Epoch 55/100\n",
            "77/77 [==============================] - 0s 1ms/step - loss: 0.5628 - accuracy: 0.7240\n",
            "Epoch 56/100\n",
            "77/77 [==============================] - 0s 1ms/step - loss: 0.5671 - accuracy: 0.7266\n",
            "Epoch 57/100\n",
            "77/77 [==============================] - 0s 1ms/step - loss: 0.5349 - accuracy: 0.7263\n",
            "Epoch 58/100\n",
            "77/77 [==============================] - 0s 1ms/step - loss: 0.5351 - accuracy: 0.7418\n",
            "Epoch 59/100\n",
            "77/77 [==============================] - 0s 1ms/step - loss: 0.5325 - accuracy: 0.7320\n",
            "Epoch 60/100\n",
            "77/77 [==============================] - 0s 1ms/step - loss: 0.5286 - accuracy: 0.7343\n",
            "Epoch 61/100\n",
            "77/77 [==============================] - 0s 1ms/step - loss: 0.5810 - accuracy: 0.7178\n",
            "Epoch 62/100\n",
            "77/77 [==============================] - 0s 1ms/step - loss: 0.5504 - accuracy: 0.6980\n",
            "Epoch 63/100\n",
            "77/77 [==============================] - 0s 1ms/step - loss: 0.5802 - accuracy: 0.7186\n",
            "Epoch 64/100\n",
            "77/77 [==============================] - 0s 1ms/step - loss: 0.5689 - accuracy: 0.7213\n",
            "Epoch 65/100\n",
            "77/77 [==============================] - 0s 1ms/step - loss: 0.5471 - accuracy: 0.7083\n",
            "Epoch 66/100\n",
            "77/77 [==============================] - 0s 1ms/step - loss: 0.5958 - accuracy: 0.7034\n",
            "Epoch 67/100\n",
            "77/77 [==============================] - 0s 1ms/step - loss: 0.5072 - accuracy: 0.7555\n",
            "Epoch 68/100\n",
            "77/77 [==============================] - 0s 1ms/step - loss: 0.5335 - accuracy: 0.7249\n",
            "Epoch 69/100\n",
            "77/77 [==============================] - 0s 1ms/step - loss: 0.5567 - accuracy: 0.7128\n",
            "Epoch 70/100\n",
            "77/77 [==============================] - 0s 1ms/step - loss: 0.6031 - accuracy: 0.6876\n",
            "Epoch 71/100\n",
            "77/77 [==============================] - 0s 1ms/step - loss: 0.5405 - accuracy: 0.7341\n",
            "Epoch 72/100\n",
            "77/77 [==============================] - 0s 1ms/step - loss: 0.5611 - accuracy: 0.7145\n",
            "Epoch 73/100\n",
            "77/77 [==============================] - 0s 1ms/step - loss: 0.5384 - accuracy: 0.7263\n",
            "Epoch 74/100\n",
            "77/77 [==============================] - 0s 1ms/step - loss: 0.5602 - accuracy: 0.7080\n",
            "Epoch 75/100\n",
            "77/77 [==============================] - 0s 1ms/step - loss: 0.5179 - accuracy: 0.7508\n",
            "Epoch 76/100\n",
            "77/77 [==============================] - 0s 1ms/step - loss: 0.5215 - accuracy: 0.7485\n",
            "Epoch 77/100\n",
            "77/77 [==============================] - 0s 1ms/step - loss: 0.5755 - accuracy: 0.6987\n",
            "Epoch 78/100\n",
            "77/77 [==============================] - 0s 1ms/step - loss: 0.5536 - accuracy: 0.7517\n",
            "Epoch 79/100\n",
            "77/77 [==============================] - 0s 1ms/step - loss: 0.5450 - accuracy: 0.7423\n",
            "Epoch 80/100\n",
            "77/77 [==============================] - 0s 1ms/step - loss: 0.5421 - accuracy: 0.7427\n",
            "Epoch 81/100\n",
            "77/77 [==============================] - 0s 1ms/step - loss: 0.5309 - accuracy: 0.7409\n",
            "Epoch 82/100\n",
            "77/77 [==============================] - 0s 1ms/step - loss: 0.5571 - accuracy: 0.7248\n",
            "Epoch 83/100\n",
            "77/77 [==============================] - 0s 1ms/step - loss: 0.5646 - accuracy: 0.7122\n",
            "Epoch 84/100\n",
            "77/77 [==============================] - 0s 1ms/step - loss: 0.5243 - accuracy: 0.7613\n",
            "Epoch 85/100\n",
            "77/77 [==============================] - 0s 1ms/step - loss: 0.5335 - accuracy: 0.7326\n",
            "Epoch 86/100\n",
            "77/77 [==============================] - 0s 1ms/step - loss: 0.5434 - accuracy: 0.7304\n",
            "Epoch 87/100\n",
            "77/77 [==============================] - 0s 1ms/step - loss: 0.5458 - accuracy: 0.7331\n",
            "Epoch 88/100\n",
            "77/77 [==============================] - 0s 1ms/step - loss: 0.5566 - accuracy: 0.7122\n",
            "Epoch 89/100\n",
            "77/77 [==============================] - 0s 1ms/step - loss: 0.5460 - accuracy: 0.7102\n",
            "Epoch 90/100\n",
            "77/77 [==============================] - 0s 1ms/step - loss: 0.5612 - accuracy: 0.7187\n",
            "Epoch 91/100\n",
            "77/77 [==============================] - 0s 1ms/step - loss: 0.5519 - accuracy: 0.7049\n",
            "Epoch 92/100\n",
            "77/77 [==============================] - 0s 1ms/step - loss: 0.5344 - accuracy: 0.7379\n",
            "Epoch 93/100\n",
            "77/77 [==============================] - 0s 1ms/step - loss: 0.5567 - accuracy: 0.7009\n",
            "Epoch 94/100\n",
            "77/77 [==============================] - 0s 1ms/step - loss: 0.5453 - accuracy: 0.7242\n",
            "Epoch 95/100\n",
            "77/77 [==============================] - 0s 1ms/step - loss: 0.5063 - accuracy: 0.7404\n",
            "Epoch 96/100\n",
            "77/77 [==============================] - 0s 1ms/step - loss: 0.5407 - accuracy: 0.7224\n",
            "Epoch 97/100\n",
            "77/77 [==============================] - 0s 1ms/step - loss: 0.5355 - accuracy: 0.7494\n",
            "Epoch 98/100\n",
            "77/77 [==============================] - 0s 1ms/step - loss: 0.5194 - accuracy: 0.7400\n",
            "Epoch 99/100\n",
            "77/77 [==============================] - 0s 1ms/step - loss: 0.5259 - accuracy: 0.7187\n",
            "Epoch 100/100\n",
            "77/77 [==============================] - 0s 1ms/step - loss: 0.5192 - accuracy: 0.7487\n",
            "24/24 [==============================] - 0s 1ms/step - loss: 0.5322 - accuracy: 0.7266\n",
            "Accuracy: 72.66\n",
            "Saved model to disk\n"
          ],
          "name": "stdout"
        }
      ]
    },
    {
      "cell_type": "code",
      "metadata": {
        "colab": {
          "base_uri": "https://localhost:8080/"
        },
        "id": "op4HV2Zqv6GY",
        "outputId": "07680a3a-0d7a-461e-c93c-b73c93a818a1"
      },
      "source": [
        "\n",
        "# Testing\n",
        "\n",
        "json_file = open('model.json', 'r')\n",
        "loaded_model_json = json_file.read()\n",
        "json_file.close()\n",
        "model = model_from_json(loaded_model_json)\n",
        "model.load_weights(\"model.h5\")\n",
        "print(\"Loaded model from disk\")\n",
        "\n",
        "predictions = model.predict_classes(x)\n",
        "for i in range(5,10):\n",
        "\tprint('%s => %d (expected %d)' % (x[i].tolist(), predictions[i], y[i]))\n"
      ],
      "execution_count": 9,
      "outputs": [
        {
          "output_type": "stream",
          "text": [
            "Loaded model from disk\n",
            "[5.0, 116.0, 74.0, 0.0, 0.0, 25.6, 0.201, 30.0] => 0 (expected 0)\n",
            "[3.0, 78.0, 50.0, 32.0, 88.0, 31.0, 0.248, 26.0] => 0 (expected 1)\n",
            "[10.0, 115.0, 0.0, 0.0, 0.0, 35.3, 0.134, 29.0] => 1 (expected 0)\n",
            "[2.0, 197.0, 70.0, 45.0, 543.0, 30.5, 0.158, 53.0] => 1 (expected 1)\n",
            "[8.0, 125.0, 96.0, 0.0, 0.0, 0.0, 0.232, 54.0] => 0 (expected 1)\n"
          ],
          "name": "stdout"
        },
        {
          "output_type": "stream",
          "text": [
            "/usr/local/lib/python3.7/dist-packages/tensorflow/python/keras/engine/sequential.py:450: UserWarning: `model.predict_classes()` is deprecated and will be removed after 2021-01-01. Please use instead:* `np.argmax(model.predict(x), axis=-1)`,   if your model does multi-class classification   (e.g. if it uses a `softmax` last-layer activation).* `(model.predict(x) > 0.5).astype(\"int32\")`,   if your model does binary classification   (e.g. if it uses a `sigmoid` last-layer activation).\n",
            "  warnings.warn('`model.predict_classes()` is deprecated and '\n"
          ],
          "name": "stderr"
        }
      ]
    }
  ]
}